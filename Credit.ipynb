{
 "cells": [
  {
   "cell_type": "markdown",
   "id": "50e12dd1",
   "metadata": {},
   "source": [
    "Title: Data Science Project GiveMeSomeCredit \n",
    "Author: Mana Shahriari\n",
    "Date created: 2021/11/28\n",
    "Description: Demonstration of Dataset:GiveMeSomeCredit https://www.kaggle.com/c/GiveMeSomeCredit/data \n",
    "\n",
    "Introduction\n",
    "\n",
    "This project provides a solution to\n",
    "[Kaggle Give Me Some Credit](https://www.kaggle.com/c/GiveMeSomeCredit/data)\n",
    "dataset and demonstrate how to solve it."
   ]
  },
  {
   "cell_type": "code",
   "execution_count": 1,
   "id": "fb078e28",
   "metadata": {},
   "outputs": [],
   "source": [
    "import numpy as np\n",
    "import pandas as pd\n",
    "import matplotlib.pyplot as plt\n",
    "import seaborn as sns\n",
    "%matplotlib inline"
   ]
  },
  {
   "cell_type": "markdown",
   "id": "379477fe",
   "metadata": {},
   "source": [
    "Get the real data from https://www.kaggle.com/c/GiveMeSomeCredit/data\n",
    "Alternatively you can use the Kaggle API to download the dataset using kaggle competitions download -c GiveMeSomeCredit"
   ]
  },
  {
   "cell_type": "code",
   "execution_count": 2,
   "id": "21604838",
   "metadata": {},
   "outputs": [],
   "source": [
    "df = pd.read_csv('cs-training.csv')"
   ]
  },
  {
   "cell_type": "markdown",
   "id": "81e1be7a",
   "metadata": {},
   "source": [
    "Data Exploratory of the Whole Dataset"
   ]
  },
  {
   "cell_type": "code",
   "execution_count": 3,
   "id": "57fd47ad",
   "metadata": {},
   "outputs": [
    {
     "data": {
      "text/html": [
       "<div>\n",
       "<style scoped>\n",
       "    .dataframe tbody tr th:only-of-type {\n",
       "        vertical-align: middle;\n",
       "    }\n",
       "\n",
       "    .dataframe tbody tr th {\n",
       "        vertical-align: top;\n",
       "    }\n",
       "\n",
       "    .dataframe thead th {\n",
       "        text-align: right;\n",
       "    }\n",
       "</style>\n",
       "<table border=\"1\" class=\"dataframe\">\n",
       "  <thead>\n",
       "    <tr style=\"text-align: right;\">\n",
       "      <th></th>\n",
       "      <th>Unnamed: 0</th>\n",
       "      <th>SeriousDlqin2yrs</th>\n",
       "      <th>RevolvingUtilizationOfUnsecuredLines</th>\n",
       "      <th>age</th>\n",
       "      <th>NumberOfTime30-59DaysPastDueNotWorse</th>\n",
       "      <th>DebtRatio</th>\n",
       "      <th>MonthlyIncome</th>\n",
       "      <th>NumberOfOpenCreditLinesAndLoans</th>\n",
       "      <th>NumberOfTimes90DaysLate</th>\n",
       "      <th>NumberRealEstateLoansOrLines</th>\n",
       "      <th>NumberOfTime60-89DaysPastDueNotWorse</th>\n",
       "      <th>NumberOfDependents</th>\n",
       "    </tr>\n",
       "  </thead>\n",
       "  <tbody>\n",
       "    <tr>\n",
       "      <th>0</th>\n",
       "      <td>1</td>\n",
       "      <td>1</td>\n",
       "      <td>0.766127</td>\n",
       "      <td>45</td>\n",
       "      <td>2</td>\n",
       "      <td>0.802982</td>\n",
       "      <td>9120.0</td>\n",
       "      <td>13</td>\n",
       "      <td>0</td>\n",
       "      <td>6</td>\n",
       "      <td>0</td>\n",
       "      <td>2.0</td>\n",
       "    </tr>\n",
       "    <tr>\n",
       "      <th>1</th>\n",
       "      <td>2</td>\n",
       "      <td>0</td>\n",
       "      <td>0.957151</td>\n",
       "      <td>40</td>\n",
       "      <td>0</td>\n",
       "      <td>0.121876</td>\n",
       "      <td>2600.0</td>\n",
       "      <td>4</td>\n",
       "      <td>0</td>\n",
       "      <td>0</td>\n",
       "      <td>0</td>\n",
       "      <td>1.0</td>\n",
       "    </tr>\n",
       "    <tr>\n",
       "      <th>2</th>\n",
       "      <td>3</td>\n",
       "      <td>0</td>\n",
       "      <td>0.658180</td>\n",
       "      <td>38</td>\n",
       "      <td>1</td>\n",
       "      <td>0.085113</td>\n",
       "      <td>3042.0</td>\n",
       "      <td>2</td>\n",
       "      <td>1</td>\n",
       "      <td>0</td>\n",
       "      <td>0</td>\n",
       "      <td>0.0</td>\n",
       "    </tr>\n",
       "    <tr>\n",
       "      <th>3</th>\n",
       "      <td>4</td>\n",
       "      <td>0</td>\n",
       "      <td>0.233810</td>\n",
       "      <td>30</td>\n",
       "      <td>0</td>\n",
       "      <td>0.036050</td>\n",
       "      <td>3300.0</td>\n",
       "      <td>5</td>\n",
       "      <td>0</td>\n",
       "      <td>0</td>\n",
       "      <td>0</td>\n",
       "      <td>0.0</td>\n",
       "    </tr>\n",
       "    <tr>\n",
       "      <th>4</th>\n",
       "      <td>5</td>\n",
       "      <td>0</td>\n",
       "      <td>0.907239</td>\n",
       "      <td>49</td>\n",
       "      <td>1</td>\n",
       "      <td>0.024926</td>\n",
       "      <td>63588.0</td>\n",
       "      <td>7</td>\n",
       "      <td>0</td>\n",
       "      <td>1</td>\n",
       "      <td>0</td>\n",
       "      <td>0.0</td>\n",
       "    </tr>\n",
       "  </tbody>\n",
       "</table>\n",
       "</div>"
      ],
      "text/plain": [
       "   Unnamed: 0  SeriousDlqin2yrs  RevolvingUtilizationOfUnsecuredLines  age  \\\n",
       "0           1                 1                              0.766127   45   \n",
       "1           2                 0                              0.957151   40   \n",
       "2           3                 0                              0.658180   38   \n",
       "3           4                 0                              0.233810   30   \n",
       "4           5                 0                              0.907239   49   \n",
       "\n",
       "   NumberOfTime30-59DaysPastDueNotWorse  DebtRatio  MonthlyIncome  \\\n",
       "0                                     2   0.802982         9120.0   \n",
       "1                                     0   0.121876         2600.0   \n",
       "2                                     1   0.085113         3042.0   \n",
       "3                                     0   0.036050         3300.0   \n",
       "4                                     1   0.024926        63588.0   \n",
       "\n",
       "   NumberOfOpenCreditLinesAndLoans  NumberOfTimes90DaysLate  \\\n",
       "0                               13                        0   \n",
       "1                                4                        0   \n",
       "2                                2                        1   \n",
       "3                                5                        0   \n",
       "4                                7                        0   \n",
       "\n",
       "   NumberRealEstateLoansOrLines  NumberOfTime60-89DaysPastDueNotWorse  \\\n",
       "0                             6                                     0   \n",
       "1                             0                                     0   \n",
       "2                             0                                     0   \n",
       "3                             0                                     0   \n",
       "4                             1                                     0   \n",
       "\n",
       "   NumberOfDependents  \n",
       "0                 2.0  \n",
       "1                 1.0  \n",
       "2                 0.0  \n",
       "3                 0.0  \n",
       "4                 0.0  "
      ]
     },
     "execution_count": 3,
     "metadata": {},
     "output_type": "execute_result"
    }
   ],
   "source": [
    "df.head()"
   ]
  },
  {
   "cell_type": "code",
   "execution_count": 5,
   "id": "b745476a",
   "metadata": {},
   "outputs": [
    {
     "data": {
      "text/plain": [
       "(150000, 12)"
      ]
     },
     "execution_count": 5,
     "metadata": {},
     "output_type": "execute_result"
    }
   ],
   "source": [
    "df.shape"
   ]
  },
  {
   "cell_type": "code",
   "execution_count": 6,
   "id": "8138136b",
   "metadata": {},
   "outputs": [
    {
     "name": "stdout",
     "output_type": "stream",
     "text": [
      "<class 'pandas.core.frame.DataFrame'>\n",
      "RangeIndex: 150000 entries, 0 to 149999\n",
      "Data columns (total 12 columns):\n",
      " #   Column                                Non-Null Count   Dtype  \n",
      "---  ------                                --------------   -----  \n",
      " 0   Unnamed: 0                            150000 non-null  int64  \n",
      " 1   SeriousDlqin2yrs                      150000 non-null  int64  \n",
      " 2   RevolvingUtilizationOfUnsecuredLines  150000 non-null  float64\n",
      " 3   age                                   150000 non-null  int64  \n",
      " 4   NumberOfTime30-59DaysPastDueNotWorse  150000 non-null  int64  \n",
      " 5   DebtRatio                             150000 non-null  float64\n",
      " 6   MonthlyIncome                         120269 non-null  float64\n",
      " 7   NumberOfOpenCreditLinesAndLoans       150000 non-null  int64  \n",
      " 8   NumberOfTimes90DaysLate               150000 non-null  int64  \n",
      " 9   NumberRealEstateLoansOrLines          150000 non-null  int64  \n",
      " 10  NumberOfTime60-89DaysPastDueNotWorse  150000 non-null  int64  \n",
      " 11  NumberOfDependents                    146076 non-null  float64\n",
      "dtypes: float64(4), int64(8)\n",
      "memory usage: 13.7 MB\n"
     ]
    }
   ],
   "source": [
    "df.info()"
   ]
  },
  {
   "cell_type": "code",
   "execution_count": 7,
   "id": "6a05f228",
   "metadata": {},
   "outputs": [
    {
     "data": {
      "text/html": [
       "<div>\n",
       "<style scoped>\n",
       "    .dataframe tbody tr th:only-of-type {\n",
       "        vertical-align: middle;\n",
       "    }\n",
       "\n",
       "    .dataframe tbody tr th {\n",
       "        vertical-align: top;\n",
       "    }\n",
       "\n",
       "    .dataframe thead th {\n",
       "        text-align: right;\n",
       "    }\n",
       "</style>\n",
       "<table border=\"1\" class=\"dataframe\">\n",
       "  <thead>\n",
       "    <tr style=\"text-align: right;\">\n",
       "      <th></th>\n",
       "      <th>Unnamed: 0</th>\n",
       "      <th>SeriousDlqin2yrs</th>\n",
       "      <th>RevolvingUtilizationOfUnsecuredLines</th>\n",
       "      <th>age</th>\n",
       "      <th>NumberOfTime30-59DaysPastDueNotWorse</th>\n",
       "      <th>DebtRatio</th>\n",
       "      <th>MonthlyIncome</th>\n",
       "      <th>NumberOfOpenCreditLinesAndLoans</th>\n",
       "      <th>NumberOfTimes90DaysLate</th>\n",
       "      <th>NumberRealEstateLoansOrLines</th>\n",
       "      <th>NumberOfTime60-89DaysPastDueNotWorse</th>\n",
       "      <th>NumberOfDependents</th>\n",
       "    </tr>\n",
       "  </thead>\n",
       "  <tbody>\n",
       "    <tr>\n",
       "      <th>count</th>\n",
       "      <td>150000.000000</td>\n",
       "      <td>150000.000000</td>\n",
       "      <td>150000.000000</td>\n",
       "      <td>150000.000000</td>\n",
       "      <td>150000.000000</td>\n",
       "      <td>150000.000000</td>\n",
       "      <td>1.202690e+05</td>\n",
       "      <td>150000.000000</td>\n",
       "      <td>150000.000000</td>\n",
       "      <td>150000.000000</td>\n",
       "      <td>150000.000000</td>\n",
       "      <td>146076.000000</td>\n",
       "    </tr>\n",
       "    <tr>\n",
       "      <th>mean</th>\n",
       "      <td>75000.500000</td>\n",
       "      <td>0.066840</td>\n",
       "      <td>6.048438</td>\n",
       "      <td>52.295207</td>\n",
       "      <td>0.421033</td>\n",
       "      <td>353.005076</td>\n",
       "      <td>6.670221e+03</td>\n",
       "      <td>8.452760</td>\n",
       "      <td>0.265973</td>\n",
       "      <td>1.018240</td>\n",
       "      <td>0.240387</td>\n",
       "      <td>0.757222</td>\n",
       "    </tr>\n",
       "    <tr>\n",
       "      <th>std</th>\n",
       "      <td>43301.414527</td>\n",
       "      <td>0.249746</td>\n",
       "      <td>249.755371</td>\n",
       "      <td>14.771866</td>\n",
       "      <td>4.192781</td>\n",
       "      <td>2037.818523</td>\n",
       "      <td>1.438467e+04</td>\n",
       "      <td>5.145951</td>\n",
       "      <td>4.169304</td>\n",
       "      <td>1.129771</td>\n",
       "      <td>4.155179</td>\n",
       "      <td>1.115086</td>\n",
       "    </tr>\n",
       "    <tr>\n",
       "      <th>min</th>\n",
       "      <td>1.000000</td>\n",
       "      <td>0.000000</td>\n",
       "      <td>0.000000</td>\n",
       "      <td>0.000000</td>\n",
       "      <td>0.000000</td>\n",
       "      <td>0.000000</td>\n",
       "      <td>0.000000e+00</td>\n",
       "      <td>0.000000</td>\n",
       "      <td>0.000000</td>\n",
       "      <td>0.000000</td>\n",
       "      <td>0.000000</td>\n",
       "      <td>0.000000</td>\n",
       "    </tr>\n",
       "    <tr>\n",
       "      <th>25%</th>\n",
       "      <td>37500.750000</td>\n",
       "      <td>0.000000</td>\n",
       "      <td>0.029867</td>\n",
       "      <td>41.000000</td>\n",
       "      <td>0.000000</td>\n",
       "      <td>0.175074</td>\n",
       "      <td>3.400000e+03</td>\n",
       "      <td>5.000000</td>\n",
       "      <td>0.000000</td>\n",
       "      <td>0.000000</td>\n",
       "      <td>0.000000</td>\n",
       "      <td>0.000000</td>\n",
       "    </tr>\n",
       "    <tr>\n",
       "      <th>50%</th>\n",
       "      <td>75000.500000</td>\n",
       "      <td>0.000000</td>\n",
       "      <td>0.154181</td>\n",
       "      <td>52.000000</td>\n",
       "      <td>0.000000</td>\n",
       "      <td>0.366508</td>\n",
       "      <td>5.400000e+03</td>\n",
       "      <td>8.000000</td>\n",
       "      <td>0.000000</td>\n",
       "      <td>1.000000</td>\n",
       "      <td>0.000000</td>\n",
       "      <td>0.000000</td>\n",
       "    </tr>\n",
       "    <tr>\n",
       "      <th>75%</th>\n",
       "      <td>112500.250000</td>\n",
       "      <td>0.000000</td>\n",
       "      <td>0.559046</td>\n",
       "      <td>63.000000</td>\n",
       "      <td>0.000000</td>\n",
       "      <td>0.868254</td>\n",
       "      <td>8.249000e+03</td>\n",
       "      <td>11.000000</td>\n",
       "      <td>0.000000</td>\n",
       "      <td>2.000000</td>\n",
       "      <td>0.000000</td>\n",
       "      <td>1.000000</td>\n",
       "    </tr>\n",
       "    <tr>\n",
       "      <th>max</th>\n",
       "      <td>150000.000000</td>\n",
       "      <td>1.000000</td>\n",
       "      <td>50708.000000</td>\n",
       "      <td>109.000000</td>\n",
       "      <td>98.000000</td>\n",
       "      <td>329664.000000</td>\n",
       "      <td>3.008750e+06</td>\n",
       "      <td>58.000000</td>\n",
       "      <td>98.000000</td>\n",
       "      <td>54.000000</td>\n",
       "      <td>98.000000</td>\n",
       "      <td>20.000000</td>\n",
       "    </tr>\n",
       "  </tbody>\n",
       "</table>\n",
       "</div>"
      ],
      "text/plain": [
       "          Unnamed: 0  SeriousDlqin2yrs  RevolvingUtilizationOfUnsecuredLines  \\\n",
       "count  150000.000000     150000.000000                         150000.000000   \n",
       "mean    75000.500000          0.066840                              6.048438   \n",
       "std     43301.414527          0.249746                            249.755371   \n",
       "min         1.000000          0.000000                              0.000000   \n",
       "25%     37500.750000          0.000000                              0.029867   \n",
       "50%     75000.500000          0.000000                              0.154181   \n",
       "75%    112500.250000          0.000000                              0.559046   \n",
       "max    150000.000000          1.000000                          50708.000000   \n",
       "\n",
       "                 age  NumberOfTime30-59DaysPastDueNotWorse      DebtRatio  \\\n",
       "count  150000.000000                         150000.000000  150000.000000   \n",
       "mean       52.295207                              0.421033     353.005076   \n",
       "std        14.771866                              4.192781    2037.818523   \n",
       "min         0.000000                              0.000000       0.000000   \n",
       "25%        41.000000                              0.000000       0.175074   \n",
       "50%        52.000000                              0.000000       0.366508   \n",
       "75%        63.000000                              0.000000       0.868254   \n",
       "max       109.000000                             98.000000  329664.000000   \n",
       "\n",
       "       MonthlyIncome  NumberOfOpenCreditLinesAndLoans  \\\n",
       "count   1.202690e+05                    150000.000000   \n",
       "mean    6.670221e+03                         8.452760   \n",
       "std     1.438467e+04                         5.145951   \n",
       "min     0.000000e+00                         0.000000   \n",
       "25%     3.400000e+03                         5.000000   \n",
       "50%     5.400000e+03                         8.000000   \n",
       "75%     8.249000e+03                        11.000000   \n",
       "max     3.008750e+06                        58.000000   \n",
       "\n",
       "       NumberOfTimes90DaysLate  NumberRealEstateLoansOrLines  \\\n",
       "count            150000.000000                 150000.000000   \n",
       "mean                  0.265973                      1.018240   \n",
       "std                   4.169304                      1.129771   \n",
       "min                   0.000000                      0.000000   \n",
       "25%                   0.000000                      0.000000   \n",
       "50%                   0.000000                      1.000000   \n",
       "75%                   0.000000                      2.000000   \n",
       "max                  98.000000                     54.000000   \n",
       "\n",
       "       NumberOfTime60-89DaysPastDueNotWorse  NumberOfDependents  \n",
       "count                         150000.000000       146076.000000  \n",
       "mean                               0.240387            0.757222  \n",
       "std                                4.155179            1.115086  \n",
       "min                                0.000000            0.000000  \n",
       "25%                                0.000000            0.000000  \n",
       "50%                                0.000000            0.000000  \n",
       "75%                                0.000000            1.000000  \n",
       "max                               98.000000           20.000000  "
      ]
     },
     "execution_count": 7,
     "metadata": {},
     "output_type": "execute_result"
    }
   ],
   "source": [
    "df.describe()"
   ]
  },
  {
   "cell_type": "markdown",
   "id": "10ff922f",
   "metadata": {},
   "source": [
    "Removing Unnamed: 0 Coloumn, doublicates indeces "
   ]
  },
  {
   "cell_type": "code",
   "execution_count": 8,
   "id": "e3ceb93e",
   "metadata": {},
   "outputs": [],
   "source": [
    "df.drop(columns='Unnamed: 0',inplace=True)"
   ]
  },
  {
   "cell_type": "markdown",
   "id": "78ce29a9",
   "metadata": {},
   "source": [
    "Data Exploratory of Target Class (SeriousDlqin2yrs)"
   ]
  },
  {
   "cell_type": "code",
   "execution_count": 9,
   "id": "495835ec",
   "metadata": {},
   "outputs": [
    {
     "data": {
      "image/png": "[encoded data removed]",
      "text/plain": [
       "<Figure size 432x288 with 1 Axes>"
      ]
     },
     "metadata": {
      "needs_background": "light"
     },
     "output_type": "display_data"
    }
   ],
   "source": [
    "sns.countplot(x='SeriousDlqin2yrs',data=df)\n",
    "plt.show()"
   ]
  },
  {
   "cell_type": "code",
   "execution_count": 10,
   "id": "4ed2dcaa",
   "metadata": {},
   "outputs": [
    {
     "data": {
      "text/plain": [
       "0    139974\n",
       "1     10026\n",
       "Name: SeriousDlqin2yrs, dtype: int64"
      ]
     },
     "execution_count": 10,
     "metadata": {},
     "output_type": "execute_result"
    }
   ],
   "source": [
    "df['SeriousDlqin2yrs'].value_counts()"
   ]
  },
  {
   "cell_type": "markdown",
   "id": "3cd74990",
   "metadata": {},
   "source": [
    "Correlation of Target with Features"
   ]
  },
  {
   "cell_type": "code",
   "execution_count": 11,
   "id": "f3792e00",
   "metadata": {},
   "outputs": [
    {
     "data": {
      "image/png": "[encoded data removed]",
      "text/plain": [
       "<Figure size 432x288 with 1 Axes>"
      ]
     },
     "metadata": {
      "needs_background": "light"
     },
     "output_type": "display_data"
    }
   ],
   "source": [
    "df.corr()['SeriousDlqin2yrs'].sort_values().plot(kind='bar')\n",
    "plt.show()"
   ]
  },
  {
   "cell_type": "markdown",
   "id": "424694cf",
   "metadata": {},
   "source": [
    "Data Exploratory of Features"
   ]
  },
  {
   "cell_type": "markdown",
   "id": "f9b28bdf",
   "metadata": {},
   "source": [
    "Processing Missing Data "
   ]
  },
  {
   "cell_type": "code",
   "execution_count": 12,
   "id": "efdd7abb",
   "metadata": {},
   "outputs": [
    {
     "data": {
      "text/plain": [
       "SeriousDlqin2yrs                            0\n",
       "RevolvingUtilizationOfUnsecuredLines        0\n",
       "age                                         0\n",
       "NumberOfTime30-59DaysPastDueNotWorse        0\n",
       "DebtRatio                                   0\n",
       "MonthlyIncome                           29731\n",
       "NumberOfOpenCreditLinesAndLoans             0\n",
       "NumberOfTimes90DaysLate                     0\n",
       "NumberRealEstateLoansOrLines                0\n",
       "NumberOfTime60-89DaysPastDueNotWorse        0\n",
       "NumberOfDependents                       3924\n",
       "dtype: int64"
      ]
     },
     "execution_count": 12,
     "metadata": {},
     "output_type": "execute_result"
    }
   ],
   "source": [
    "df.isna().sum()"
   ]
  },
  {
   "cell_type": "code",
   "execution_count": 13,
   "id": "dffe6592",
   "metadata": {},
   "outputs": [
    {
     "data": {
      "text/plain": [
       "SeriousDlqin2yrs                         0.000000\n",
       "RevolvingUtilizationOfUnsecuredLines     0.000000\n",
       "age                                      0.000000\n",
       "NumberOfTime30-59DaysPastDueNotWorse     0.000000\n",
       "DebtRatio                                0.000000\n",
       "MonthlyIncome                           19.820667\n",
       "NumberOfOpenCreditLinesAndLoans          0.000000\n",
       "NumberOfTimes90DaysLate                  0.000000\n",
       "NumberRealEstateLoansOrLines             0.000000\n",
       "NumberOfTime60-89DaysPastDueNotWorse     0.000000\n",
       "NumberOfDependents                       2.616000\n",
       "dtype: float64"
      ]
     },
     "execution_count": 13,
     "metadata": {},
     "output_type": "execute_result"
    }
   ],
   "source": [
    "100* df.isnull().sum()/len(df)"
   ]
  },
  {
   "cell_type": "code",
   "execution_count": 14,
   "id": "7a4b636a",
   "metadata": {},
   "outputs": [
    {
     "data": {
      "image/png": "[encoded data removed]",
      "text/plain": [
       "<Figure size 720x576 with 2 Axes>"
      ]
     },
     "metadata": {
      "needs_background": "light"
     },
     "output_type": "display_data"
    }
   ],
   "source": [
    "plt.figure(figsize=(10,8))\n",
    "sns.heatmap(df.corr(),cmap=\"viridis\",annot=True)\n",
    "plt.show()"
   ]
  },
  {
   "cell_type": "code",
   "execution_count": 15,
   "id": "31bb6846",
   "metadata": {},
   "outputs": [
    {
     "data": {
      "text/plain": [
       "DebtRatio                              -0.028712\n",
       "SeriousDlqin2yrs                       -0.019746\n",
       "NumberOfTimes90DaysLate                -0.012743\n",
       "NumberOfTime60-89DaysPastDueNotWorse   -0.011116\n",
       "NumberOfTime30-59DaysPastDueNotWorse   -0.010217\n",
       "RevolvingUtilizationOfUnsecuredLines    0.007124\n",
       "age                                     0.037717\n",
       "NumberOfDependents                      0.062647\n",
       "NumberOfOpenCreditLinesAndLoans         0.091455\n",
       "NumberRealEstateLoansOrLines            0.124959\n",
       "MonthlyIncome                           1.000000\n",
       "Name: MonthlyIncome, dtype: float64"
      ]
     },
     "execution_count": 15,
     "metadata": {},
     "output_type": "execute_result"
    }
   ],
   "source": [
    "df.corr()['MonthlyIncome'].sort_values()"
   ]
  },
  {
   "cell_type": "markdown",
   "id": "3a5b76f0",
   "metadata": {},
   "source": [
    "Filling NAN using Correlation of Missing Data with the Class withthe Highest Correlation  "
   ]
  },
  {
   "cell_type": "code",
   "execution_count": 16,
   "id": "fae26f2e",
   "metadata": {},
   "outputs": [],
   "source": [
    "MeanIncome = df.groupby('NumberRealEstateLoansOrLines').mean()['MonthlyIncome']"
   ]
  },
  {
   "cell_type": "code",
   "execution_count": 17,
   "id": "5d469a5f",
   "metadata": {},
   "outputs": [],
   "source": [
    "def fill_MeanIncome(NumberRealEstateLoansOrLines,MonthlyIncome):\n",
    "    if np.isnan(MonthlyIncome):\n",
    "        return MeanIncome[NumberRealEstateLoansOrLines]\n",
    "    else:\n",
    "        return MonthlyIncome    \n"
   ]
  },
  {
   "cell_type": "code",
   "execution_count": 18,
   "id": "4c4c5d29",
   "metadata": {},
   "outputs": [],
   "source": [
    "df['MonthlyIncome'] = df.apply(lambda \n",
    "                               x: fill_MeanIncome(x['NumberRealEstateLoansOrLines'], x['MonthlyIncome']), axis=1)"
   ]
  },
  {
   "cell_type": "markdown",
   "id": "e2209eb3",
   "metadata": {},
   "source": [
    "Checking if NAN Values are Filled for df['MonthlyIncome']"
   ]
  },
  {
   "cell_type": "code",
   "execution_count": 19,
   "id": "602b5799",
   "metadata": {},
   "outputs": [
    {
     "data": {
      "text/plain": [
       "SeriousDlqin2yrs                           0\n",
       "RevolvingUtilizationOfUnsecuredLines       0\n",
       "age                                        0\n",
       "NumberOfTime30-59DaysPastDueNotWorse       0\n",
       "DebtRatio                                  0\n",
       "MonthlyIncome                              0\n",
       "NumberOfOpenCreditLinesAndLoans            0\n",
       "NumberOfTimes90DaysLate                    0\n",
       "NumberRealEstateLoansOrLines               0\n",
       "NumberOfTime60-89DaysPastDueNotWorse       0\n",
       "NumberOfDependents                      3924\n",
       "dtype: int64"
      ]
     },
     "execution_count": 19,
     "metadata": {},
     "output_type": "execute_result"
    }
   ],
   "source": [
    "df.isnull().sum()"
   ]
  },
  {
   "cell_type": "markdown",
   "id": "ec57f79d",
   "metadata": {},
   "source": [
    "Droping the rest NAN around 2% of the Total Numbers"
   ]
  },
  {
   "cell_type": "code",
   "execution_count": 20,
   "id": "4e1b9b0f",
   "metadata": {},
   "outputs": [
    {
     "data": {
      "text/plain": [
       "SeriousDlqin2yrs                        0\n",
       "RevolvingUtilizationOfUnsecuredLines    0\n",
       "age                                     0\n",
       "NumberOfTime30-59DaysPastDueNotWorse    0\n",
       "DebtRatio                               0\n",
       "MonthlyIncome                           0\n",
       "NumberOfOpenCreditLinesAndLoans         0\n",
       "NumberOfTimes90DaysLate                 0\n",
       "NumberRealEstateLoansOrLines            0\n",
       "NumberOfTime60-89DaysPastDueNotWorse    0\n",
       "NumberOfDependents                      0\n",
       "dtype: int64"
      ]
     },
     "execution_count": 20,
     "metadata": {},
     "output_type": "execute_result"
    }
   ],
   "source": [
    "df = df.dropna()\n",
    "df.isnull().sum()"
   ]
  },
  {
   "cell_type": "markdown",
   "id": "e7b01615",
   "metadata": {},
   "source": [
    "Data PreProcessing for Training"
   ]
  },
  {
   "cell_type": "code",
   "execution_count": 21,
   "id": "d0d11e83",
   "metadata": {},
   "outputs": [],
   "source": [
    "from sklearn.model_selection import train_test_split\n",
    "from sklearn.preprocessing import MinMaxScaler"
   ]
  },
  {
   "cell_type": "code",
   "execution_count": 22,
   "id": "dd11aa4f",
   "metadata": {},
   "outputs": [],
   "source": [
    "X = df.drop('SeriousDlqin2yrs',axis=1).values\n",
    "y = df['SeriousDlqin2yrs'].values"
   ]
  },
  {
   "cell_type": "markdown",
   "id": "4dbb8da8",
   "metadata": {},
   "source": [
    "Preparing Train and Validation Set"
   ]
  },
  {
   "cell_type": "code",
   "execution_count": 24,
   "id": "849f5983",
   "metadata": {},
   "outputs": [],
   "source": [
    "X_train, X_val, y_train, y_val = train_test_split(X, y, test_size=0.2)"
   ]
  },
  {
   "cell_type": "markdown",
   "id": "0393e7f3",
   "metadata": {},
   "source": [
    "Normalizing Data Using Training Data Statistics"
   ]
  },
  {
   "cell_type": "code",
   "execution_count": 25,
   "id": "87a9a3f0",
   "metadata": {},
   "outputs": [],
   "source": [
    "mean = np.mean(X_train, axis=0)\n",
    "X_train -= mean\n",
    "X_val -= mean\n",
    "std = np.std(X_train, axis=0)\n",
    "X_train /= std\n",
    "X_val /= std"
   ]
  },
  {
   "cell_type": "code",
   "execution_count": 26,
   "id": "4b2517b1",
   "metadata": {},
   "outputs": [
    {
     "name": "stdout",
     "output_type": "stream",
     "text": [
      "Number of training samples: 116860\n",
      "Number of validation samples: 29216\n"
     ]
    }
   ],
   "source": [
    "print(\"Number of training samples:\", len(X_train))\n",
    "print(\"Number of validation samples:\", len(X_val))\n"
   ]
  },
  {
   "cell_type": "markdown",
   "id": "835f2b77",
   "metadata": {},
   "source": [
    "Analyze Class Imbalance in the Targets"
   ]
  },
  {
   "cell_type": "code",
   "execution_count": 27,
   "id": "e7b305fb",
   "metadata": {},
   "outputs": [
    {
     "name": "stdout",
     "output_type": "stream",
     "text": [
      "Number of positive samples in training data: (6.74% of total labels)\n"
     ]
    }
   ],
   "source": [
    "negatives = 100 * df['SeriousDlqin2yrs'].value_counts()[0]/df['SeriousDlqin2yrs'].shape[-1]\n",
    "positives = 100 * df['SeriousDlqin2yrs'].value_counts()[1]/df['SeriousDlqin2yrs'].shape[-1]\n",
    "print(\n",
    "    \"Number of positive samples in training data: ({:.2f}% of total labels)\".format(\n",
    "        positives)\n",
    "    )"
   ]
  },
  {
   "cell_type": "markdown",
   "id": "8edcbf9f",
   "metadata": {},
   "source": [
    "Building the Model"
   ]
  },
  {
   "cell_type": "code",
   "execution_count": 28,
   "id": "50ed38c7",
   "metadata": {},
   "outputs": [],
   "source": [
    "import tensorflow as tf\n",
    "from tensorflow import keras\n",
    "from tensorflow.keras.models import Sequential\n",
    "from tensorflow.keras.layers import Dense,Activation,Dropout\n",
    "from tensorflow.keras.callbacks import EarlyStopping\n",
    "import keras_tuner as kt"
   ]
  },
  {
   "cell_type": "markdown",
   "id": "9ca697dd",
   "metadata": {},
   "source": [
    "Define the Model"
   ]
  },
  {
   "cell_type": "code",
   "execution_count": 30,
   "id": "8394842a",
   "metadata": {},
   "outputs": [
    {
     "name": "stdout",
     "output_type": "stream",
     "text": [
      "Model: \"sequential\"\n",
      "_________________________________________________________________\n",
      "Layer (type)                 Output Shape              Param #   \n",
      "=================================================================\n",
      "dense (Dense)                (None, 64)                704       \n",
      "_________________________________________________________________\n",
      "dropout (Dropout)            (None, 64)                0         \n",
      "_________________________________________________________________\n",
      "dense_1 (Dense)              (None, 32)                2080      \n",
      "_________________________________________________________________\n",
      "dropout_1 (Dropout)          (None, 32)                0         \n",
      "_________________________________________________________________\n",
      "dense_2 (Dense)              (None, 1)                 33        \n",
      "=================================================================\n",
      "Total params: 2,817\n",
      "Trainable params: 2,817\n",
      "Non-trainable params: 0\n",
      "_________________________________________________________________\n"
     ]
    }
   ],
   "source": [
    "model = Sequential()\n",
    "model.add(Dense(64, input_shape=(X_train.shape[-1],),\n",
    "                activation='relu', \n",
    "                kernel_initializer='he_uniform'))\n",
    "model.add(Dropout(0.2))\n",
    "model.add(Dense(32, activation='relu'))\n",
    "model.add(Dropout(0.2))\n",
    "model.add(Dense(units=1,activation='sigmoid'))  \n",
    "model.summary()"
   ]
  },
  {
   "cell_type": "markdown",
   "id": "cf0ffab6",
   "metadata": {},
   "source": [
    "Train the model with class_weight Argument"
   ]
  },
  {
   "cell_type": "code",
   "execution_count": 31,
   "id": "0aa05af1",
   "metadata": {},
   "outputs": [
    {
     "name": "stdout",
     "output_type": "stream",
     "text": [
      "Epoch 1/100\n",
      "3652/3652 [==============================] - 4s 1ms/step - loss: 1.0884 - val_loss: 0.5880\n",
      "Epoch 2/100\n",
      "3652/3652 [==============================] - 4s 977us/step - loss: 1.0153 - val_loss: 0.4254\n",
      "Epoch 3/100\n",
      "3652/3652 [==============================] - 4s 977us/step - loss: 0.9694 - val_loss: 0.4810\n",
      "Epoch 4/100\n",
      "3652/3652 [==============================] - 3s 880us/step - loss: 0.9473 - val_loss: 0.4443\n",
      "Epoch 5/100\n",
      "3652/3652 [==============================] - 3s 886us/step - loss: 0.9282 - val_loss: 0.4208\n",
      "Epoch 6/100\n",
      "3652/3652 [==============================] - 3s 883us/step - loss: 0.9159 - val_loss: 0.4643\n",
      "Epoch 7/100\n",
      "3652/3652 [==============================] - 3s 885us/step - loss: 0.9138 - val_loss: 0.4160\n",
      "Epoch 8/100\n",
      "3652/3652 [==============================] - 3s 889us/step - loss: 0.9072 - val_loss: 0.4342\n",
      "Epoch 9/100\n",
      "3652/3652 [==============================] - 3s 886us/step - loss: 0.9020 - val_loss: 0.4455\n",
      "Epoch 10/100\n",
      "3652/3652 [==============================] - 3s 891us/step - loss: 0.8979 - val_loss: 0.4565\n",
      "Epoch 11/100\n",
      "3652/3652 [==============================] - 3s 891us/step - loss: 0.8976 - val_loss: 0.4866\n",
      "Epoch 12/100\n",
      "3652/3652 [==============================] - 3s 898us/step - loss: 0.8919 - val_loss: 0.4260\n",
      "Epoch 13/100\n",
      "3652/3652 [==============================] - 3s 887us/step - loss: 0.8939 - val_loss: 0.4587\n",
      "Epoch 14/100\n",
      "3652/3652 [==============================] - 3s 887us/step - loss: 0.8911 - val_loss: 0.4411\n",
      "Epoch 15/100\n",
      "3652/3652 [==============================] - 3s 895us/step - loss: 0.8924 - val_loss: 0.4051\n",
      "Epoch 16/100\n",
      "3652/3652 [==============================] - 3s 887us/step - loss: 0.8896 - val_loss: 0.4891\n",
      "Epoch 17/100\n",
      "3652/3652 [==============================] - 3s 895us/step - loss: 0.8848 - val_loss: 0.4332\n",
      "Epoch 18/100\n",
      "3652/3652 [==============================] - 3s 903us/step - loss: 0.8885 - val_loss: 0.4168\n",
      "Epoch 19/100\n",
      "3652/3652 [==============================] - 3s 896us/step - loss: 0.8838 - val_loss: 0.4748\n",
      "Epoch 20/100\n",
      "3652/3652 [==============================] - 3s 908us/step - loss: 0.8854 - val_loss: 0.4463\n",
      "Epoch 21/100\n",
      "3652/3652 [==============================] - 3s 901us/step - loss: 0.8839 - val_loss: 0.4169\n",
      "Epoch 22/100\n",
      "3652/3652 [==============================] - 3s 897us/step - loss: 0.8837 - val_loss: 0.4438\n",
      "Epoch 23/100\n",
      "3652/3652 [==============================] - 3s 896us/step - loss: 0.8802 - val_loss: 0.4312\n",
      "Epoch 24/100\n",
      "3652/3652 [==============================] - 3s 902us/step - loss: 0.8826 - val_loss: 0.4659\n",
      "Epoch 25/100\n",
      "3652/3652 [==============================] - 3s 893us/step - loss: 0.8804 - val_loss: 0.4785\n",
      "Restoring model weights from the end of the best epoch.\n",
      "Epoch 00025: early stopping\n"
     ]
    },
    {
     "data": {
      "text/plain": [
       "<keras.callbacks.History at 0x7ff2d322a430>"
      ]
     },
     "execution_count": 31,
     "metadata": {},
     "output_type": "execute_result"
    }
   ],
   "source": [
    "model.compile(loss='binary_crossentropy', optimizer='sgd')\n",
    "early_stop = EarlyStopping(monitor='val_loss', mode='min', verbose=10, patience=10, restore_best_weights=True)\n",
    "# Negatives Labels are Roughly 12 Times the Positive Ones (We saw this earlier) \n",
    "weights = {0:1, 1:12}\n",
    "model.fit(\n",
    "    X_train,\n",
    "    y_train,\n",
    "    epochs=100,\n",
    "    verbose=1,\n",
    "    callbacks=[early_stop],\n",
    "    validation_data=(X_val, y_val),\n",
    "    class_weight=weights\n",
    ")"
   ]
  },
  {
   "cell_type": "markdown",
   "id": "4b021f23",
   "metadata": {},
   "source": [
    "Assessing the Model on Validation Set"
   ]
  },
  {
   "cell_type": "code",
   "execution_count": 32,
   "id": "8b57b06c",
   "metadata": {},
   "outputs": [],
   "source": [
    "from sklearn.metrics import classification_report,confusion_matrix,roc_auc_score"
   ]
  },
  {
   "cell_type": "code",
   "execution_count": 33,
   "id": "4fc74452",
   "metadata": {},
   "outputs": [
    {
     "name": "stdout",
     "output_type": "stream",
     "text": [
      "              precision    recall  f1-score   support\n",
      "\n",
      "           0       0.97      0.87      0.92     27234\n",
      "           1       0.26      0.63      0.37      1982\n",
      "\n",
      "    accuracy                           0.86     29216\n",
      "   macro avg       0.62      0.75      0.65     29216\n",
      "weighted avg       0.92      0.86      0.88     29216\n",
      "\n",
      "ROC AUC: 0.749\n"
     ]
    }
   ],
   "source": [
    "predictions = (model.predict(X_val) > 0.5).astype(\"int32\")\n",
    "print(classification_report(y_val,predictions))\n",
    "confusion_matrix(y_val,predictions)\n",
    "score = roc_auc_score(y_val,predictions)\n",
    "print('ROC AUC: %.3f' % score)"
   ]
  },
  {
   "cell_type": "markdown",
   "id": "c1a11ce9",
   "metadata": {},
   "source": [
    "Saving the Model"
   ]
  },
  {
   "cell_type": "code",
   "execution_count": 34,
   "id": "48d0ea8d",
   "metadata": {},
   "outputs": [],
   "source": [
    "from tensorflow.keras.models import load_model\n",
    "model.save('GiveMeSomeCredit.h5')  "
   ]
  },
  {
   "cell_type": "code",
   "execution_count": null,
   "id": "b452050d",
   "metadata": {},
   "outputs": [],
   "source": []
  },
  {
   "cell_type": "code",
   "execution_count": null,
   "id": "63e02751",
   "metadata": {},
   "outputs": [],
   "source": []
  },
  {
   "cell_type": "code",
   "execution_count": null,
   "id": "ae433cb2",
   "metadata": {},
   "outputs": [],
   "source": []
  },
  {
   "cell_type": "code",
   "execution_count": null,
   "id": "09a24c60",
   "metadata": {},
   "outputs": [],
   "source": [
    "def model_builder(hp):\n",
    "    model = keras.Sequential()\n",
    "    hp_units1 = hp.Int('units', min_value=32, max_value=128, step=32)\n",
    "    model.add(Dense(units=hp_units1, input_shape=(X_train.shape[-1],), activation='relu'))\n",
    "    model.add(keras.layers.Dense(10))\n",
    "    #hp_activation = hp.Choice(name = 'activation', values = ['relu', 'elu', 'lrelu'], ordered = False)\n",
    "    hp_learning_rate = hp.Choice('learning_rate', values=[1e-2, 1e-3, 1e-4])\n",
    "    model.compile(optimizer=keras.optimizers.Adam(learning_rate=hp_learning_rate),\n",
    "                loss=keras.losses.BinaryCrossentropy())\n",
    "    return model\n"
   ]
  },
  {
   "cell_type": "code",
   "execution_count": null,
   "id": "7d5d7773",
   "metadata": {},
   "outputs": [],
   "source": [
    "tuner = kt.Hyperband(model_builder,\n",
    "                     objective=kt.Objective('val_auc', direction='max'),\n",
    "                     max_epochs=10,\n",
    "                     factor=3,\n",
    "                     directory='keras_tuner_dir',\n",
    "                     project_name='keras_tuner_demo2')"
   ]
  },
  {
   "cell_type": "code",
   "execution_count": null,
   "id": "013d0594",
   "metadata": {},
   "outputs": [],
   "source": [
    "stop_early = tf.keras.callbacks.EarlyStopping(monitor='val_loss', patience=5)"
   ]
  },
  {
   "cell_type": "code",
   "execution_count": null,
   "id": "209329a5",
   "metadata": {},
   "outputs": [],
   "source": [
    "tuner.search(X_train, y_train, epochs=50, validation_data=(X_val, y_val), callbacks=[stop_early])\n",
    "# Get the optimal hyperparameters\n",
    "best_hps=tuner.get_best_hyperparameters(num_trials=1)[0]\n"
   ]
  },
  {
   "cell_type": "code",
   "execution_count": null,
   "id": "bfdb6c0f",
   "metadata": {},
   "outputs": [],
   "source": [
    "model = tuner.hypermodel.build(best_hps)\n",
    "history = model.fit(X_train, y_train, epochs=50, validation_split=0.2)\n",
    "\n",
    "val_acc_per_epoch = history.history['val_accuracy']\n",
    "best_epoch = val_acc_per_epoch.index(max(val_acc_per_epoch)) + 1\n",
    "print('Best epoch: %d' % (best_epoch,))"
   ]
  },
  {
   "cell_type": "code",
   "execution_count": null,
   "id": "c9d03555",
   "metadata": {},
   "outputs": [],
   "source": [
    "hypermodel = tuner.hypermodel.build(best_hps)\n",
    "\n",
    "# Retrain the model\n",
    "hypermodel.fit(X_train,y_train, epochs=best_epoch, validation_split=0.1)\n",
    "eval_result = hypermodel.evaluate(X_test,y_test)\n",
    "print(\"[test loss, test accuracy]:\", eval_result)"
   ]
  },
  {
   "cell_type": "code",
   "execution_count": null,
   "id": "007a143e",
   "metadata": {},
   "outputs": [],
   "source": [
    "tuner.results_summary()"
   ]
  },
  {
   "cell_type": "code",
   "execution_count": null,
   "id": "bb63f1a0",
   "metadata": {},
   "outputs": [],
   "source": []
  },
  {
   "cell_type": "code",
   "execution_count": null,
   "id": "c1dbb766",
   "metadata": {},
   "outputs": [],
   "source": [
    "metrics = [\n",
    "    keras.metrics.FalseNegatives(name=\"fn\"),\n",
    "    keras.metrics.FalsePositives(name=\"fp\"),\n",
    "    keras.metrics.TrueNegatives(name=\"tn\"),\n",
    "    keras.metrics.TruePositives(name=\"tp\"),\n",
    "    keras.metrics.Precision(name=\"precision\"),\n",
    "    keras.metrics.Recall(name=\"recall\"),\n",
    "]"
   ]
  }
 ],
 "metadata": {
  "kernelspec": {
   "display_name": "Python 3",
   "language": "python",
   "name": "python3"
  },
  "language_info": {
   "codemirror_mode": {
    "name": "ipython",
    "version": 3
   },
   "file_extension": ".py",
   "mimetype": "text/x-python",
   "name": "python",
   "nbconvert_exporter": "python",
   "pygments_lexer": "ipython3",
   "version": "3.8.8"
  }
 },
 "nbformat": 4,
 "nbformat_minor": 5
}
